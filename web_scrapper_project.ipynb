{
 "cells": [
  {
   "cell_type": "markdown",
   "metadata": {},
   "source": [
    "# Imports"
   ]
  },
  {
   "cell_type": "code",
   "execution_count": 1,
   "metadata": {},
   "outputs": [],
   "source": [
    "import pandas as pd\n",
    "import numpy as np\n",
    "import matplotlib.pyplot as plt\n",
    "import seaborn as sns\n",
    "import datetime\n",
    "import re\n",
    "import os"
   ]
  },
  {
   "cell_type": "markdown",
   "metadata": {},
   "source": [
    "# Habits of Web Users?"
   ]
  },
  {
   "cell_type": "markdown",
   "metadata": {},
   "source": [
    "1. Track users history by ip address\n",
    "2. "
   ]
  },
  {
   "cell_type": "markdown",
   "metadata": {},
   "source": [
    "# Data Clean / Prep"
   ]
  },
  {
   "cell_type": "markdown",
   "metadata": {},
   "source": [
    "#### Prepare Data"
   ]
  },
  {
   "cell_type": "code",
   "execution_count": 2,
   "metadata": {},
   "outputs": [
    {
     "data": {
      "text/html": [
       "<div>\n",
       "<style scoped>\n",
       "    .dataframe tbody tr th:only-of-type {\n",
       "        vertical-align: middle;\n",
       "    }\n",
       "\n",
       "    .dataframe tbody tr th {\n",
       "        vertical-align: top;\n",
       "    }\n",
       "\n",
       "    .dataframe thead th {\n",
       "        text-align: right;\n",
       "    }\n",
       "</style>\n",
       "<table border=\"1\" class=\"dataframe\">\n",
       "  <thead>\n",
       "    <tr style=\"text-align: right;\">\n",
       "      <th></th>\n",
       "      <th>ip</th>\n",
       "      <th>url</th>\n",
       "      <th>status</th>\n",
       "      <th>method</th>\n",
       "      <th>transfer_protocol</th>\n",
       "    </tr>\n",
       "    <tr>\n",
       "      <th>date_time</th>\n",
       "      <th></th>\n",
       "      <th></th>\n",
       "      <th></th>\n",
       "      <th></th>\n",
       "      <th></th>\n",
       "    </tr>\n",
       "  </thead>\n",
       "  <tbody>\n",
       "    <tr>\n",
       "      <th>2021-02-12 00:00:23</th>\n",
       "      <td>10.128.2.1</td>\n",
       "      <td></td>\n",
       "      <td>302</td>\n",
       "      <td>GET</td>\n",
       "      <td>HTTP/1.1</td>\n",
       "    </tr>\n",
       "    <tr>\n",
       "      <th>2021-02-12 00:00:23</th>\n",
       "      <td>10.128.2.1</td>\n",
       "      <td>login.php</td>\n",
       "      <td>200</td>\n",
       "      <td>GET</td>\n",
       "      <td>HTTP/1.1</td>\n",
       "    </tr>\n",
       "    <tr>\n",
       "      <th>2021-02-12 00:00:24</th>\n",
       "      <td>10.130.2.1</td>\n",
       "      <td>css/font-awesome.min.css</td>\n",
       "      <td>200</td>\n",
       "      <td>GET</td>\n",
       "      <td>HTTP/1.1</td>\n",
       "    </tr>\n",
       "    <tr>\n",
       "      <th>2021-02-12 00:00:24</th>\n",
       "      <td>10.128.2.1</td>\n",
       "      <td>css/normalize.css</td>\n",
       "      <td>200</td>\n",
       "      <td>GET</td>\n",
       "      <td>HTTP/1.1</td>\n",
       "    </tr>\n",
       "    <tr>\n",
       "      <th>2021-02-12 00:00:24</th>\n",
       "      <td>10.131.0.1</td>\n",
       "      <td>css/bootstrap.min.css</td>\n",
       "      <td>200</td>\n",
       "      <td>GET</td>\n",
       "      <td>HTTP/1.1</td>\n",
       "    </tr>\n",
       "  </tbody>\n",
       "</table>\n",
       "</div>"
      ],
      "text/plain": [
       "                             ip                       url status method  \\\n",
       "date_time                                                                 \n",
       "2021-02-12 00:00:23  10.128.2.1                              302   GET    \n",
       "2021-02-12 00:00:23  10.128.2.1                 login.php    200   GET    \n",
       "2021-02-12 00:00:24  10.130.2.1  css/font-awesome.min.css    200   GET    \n",
       "2021-02-12 00:00:24  10.128.2.1         css/normalize.css    200   GET    \n",
       "2021-02-12 00:00:24  10.131.0.1     css/bootstrap.min.css    200   GET    \n",
       "\n",
       "                    transfer_protocol  \n",
       "date_time                              \n",
       "2021-02-12 00:00:23          HTTP/1.1  \n",
       "2021-02-12 00:00:23          HTTP/1.1  \n",
       "2021-02-12 00:00:24          HTTP/1.1  \n",
       "2021-02-12 00:00:24          HTTP/1.1  \n",
       "2021-02-12 00:00:24          HTTP/1.1  "
      ]
     },
     "execution_count": 2,
     "metadata": {},
     "output_type": "execute_result"
    }
   ],
   "source": [
    "# Read CSV\n",
    "df = pd.read_csv('weblog.csv')\n",
    "# Remove bracket from time\n",
    "df['Time']= df['Time'].map(lambda x: x.lstrip('['))\n",
    "# Split date and time\n",
    "df[['date','time']]= df['Time'].str.split(':',n = 1, expand = True)\n",
    "# Drop origional Time column\n",
    "df.drop(columns=['Time'], inplace = True)\n",
    "# Replace / with - in date\n",
    "df['date'] = df['date'].str.replace('/', '-')\n",
    "# Use properly formatted time to coerce datetime\n",
    "df['date_time'] = pd.to_datetime(df['time'], errors='coerce')\n",
    "# Drop origional date and time columns\n",
    "df.drop(columns=['date'], inplace = True)\n",
    "df.drop(columns=['time'], inplace = True)\n",
    "\n",
    "# Rename columns to make them easier to work with\n",
    "df.rename(columns = {'IP':'ip','URL':'url','Staus':'status'},inplace = True)\n",
    "# Create a new column for action GET/PUSH\n",
    "df[['method','url']]= df['url'].str.split('/',n = 1, expand = True)\n",
    "# create new column for transfer protocol\n",
    "df[['url','transfer_protocol']]= df['url'].str.split(' ',n = 1, expand = True)\n",
    "# Turn df variables in to categories\n",
    "df = df.astype('string')\n",
    "\n",
    "# Remove nonsense values from ip column (df)\n",
    "indexNames = df[(df['ip'] == '[Mon')].index\n",
    "df.drop(indexNames , inplace=True)\n",
    "indexNames = df[(df['ip'] == '[Tue')].index\n",
    "df.drop(indexNames , inplace=True)\n",
    "indexNames = df[(df['ip'] == '[Wed')].index\n",
    "df.drop(indexNames , inplace=True)\n",
    "indexNames = df[(df['ip'] == '[Thu')].index\n",
    "df.drop(indexNames , inplace=True)\n",
    "indexNames = df[(df['ip'] == '[Fri')].index\n",
    "df.drop(indexNames , inplace=True)\n",
    "indexNames = df[(df['ip'] == '[Sat')].index\n",
    "df.drop(indexNames , inplace=True)\n",
    "indexNames = df[(df['ip'] == 'chmod:')].index\n",
    "df.drop(indexNames , inplace=True)\n",
    "indexNames = df[(df['ip'] == 'rm:')].index\n",
    "df.drop(indexNames , inplace=True)\n",
    "indexNames = df[(df['ip'] == 'timeout:')].index\n",
    "df.drop(indexNames , inplace=True)\n",
    "indexNames = df[(df['ip'] == 'sh:')].index\n",
    "df.drop(indexNames , inplace=True)\n",
    "indexNames = df[(df['ip'] == 'a.out:')].index\n",
    "df.drop(indexNames , inplace=True)\n",
    "\n",
    "# Set datetime as index\n",
    "df = df.set_index('date_time').sort_index()\n",
    "\n",
    "# See what is left\n",
    "df.head()"
   ]
  },
  {
   "cell_type": "code",
   "execution_count": 3,
   "metadata": {},
   "outputs": [
    {
     "data": {
      "text/plain": [
       "ip                   0\n",
       "url                  0\n",
       "status               0\n",
       "method               0\n",
       "transfer_protocol    0\n",
       "dtype: int64"
      ]
     },
     "execution_count": 3,
     "metadata": {},
     "output_type": "execute_result"
    }
   ],
   "source": [
    "df.isna().sum()"
   ]
  },
  {
   "cell_type": "code",
   "execution_count": 6,
   "metadata": {},
   "outputs": [
    {
     "data": {
      "text/plain": [
       "10.128.2.1    4257\n",
       "10.131.0.1    4198\n",
       "10.130.2.1    4056\n",
       "10.129.2.1    1652\n",
       "10.131.2.1    1626\n",
       "Name: ip, dtype: Int64"
      ]
     },
     "execution_count": 6,
     "metadata": {},
     "output_type": "execute_result"
    }
   ],
   "source": [
    "df.ip.value_counts()"
   ]
  },
  {
   "cell_type": "markdown",
   "metadata": {},
   "source": [
    "#### Explore IP addresses"
   ]
  },
  {
   "cell_type": "code",
   "execution_count": 4,
   "metadata": {},
   "outputs": [
    {
     "data": {
      "text/html": [
       "<div>\n",
       "<style scoped>\n",
       "    .dataframe tbody tr th:only-of-type {\n",
       "        vertical-align: middle;\n",
       "    }\n",
       "\n",
       "    .dataframe tbody tr th {\n",
       "        vertical-align: top;\n",
       "    }\n",
       "\n",
       "    .dataframe thead th {\n",
       "        text-align: right;\n",
       "    }\n",
       "</style>\n",
       "<table border=\"1\" class=\"dataframe\">\n",
       "  <thead>\n",
       "    <tr style=\"text-align: right;\">\n",
       "      <th></th>\n",
       "      <th>ip</th>\n",
       "      <th>url</th>\n",
       "      <th>status</th>\n",
       "      <th>method</th>\n",
       "      <th>transfer_protocol</th>\n",
       "    </tr>\n",
       "    <tr>\n",
       "      <th>date_time</th>\n",
       "      <th></th>\n",
       "      <th></th>\n",
       "      <th></th>\n",
       "      <th></th>\n",
       "      <th></th>\n",
       "    </tr>\n",
       "  </thead>\n",
       "  <tbody>\n",
       "    <tr>\n",
       "      <th>2021-02-12 00:00:23</th>\n",
       "      <td>10.128.2.1</td>\n",
       "      <td></td>\n",
       "      <td>302</td>\n",
       "      <td>GET</td>\n",
       "      <td>HTTP/1.1</td>\n",
       "    </tr>\n",
       "    <tr>\n",
       "      <th>2021-02-12 00:00:23</th>\n",
       "      <td>10.128.2.1</td>\n",
       "      <td>login.php</td>\n",
       "      <td>200</td>\n",
       "      <td>GET</td>\n",
       "      <td>HTTP/1.1</td>\n",
       "    </tr>\n",
       "    <tr>\n",
       "      <th>2021-02-12 00:00:24</th>\n",
       "      <td>10.128.2.1</td>\n",
       "      <td>css/normalize.css</td>\n",
       "      <td>200</td>\n",
       "      <td>GET</td>\n",
       "      <td>HTTP/1.1</td>\n",
       "    </tr>\n",
       "    <tr>\n",
       "      <th>2021-02-12 00:00:28</th>\n",
       "      <td>10.128.2.1</td>\n",
       "      <td>fonts/fontawesome-webfont.eot?v=4.6.3</td>\n",
       "      <td>200</td>\n",
       "      <td>GET</td>\n",
       "      <td>HTTP/1.1</td>\n",
       "    </tr>\n",
       "    <tr>\n",
       "      <th>2021-02-12 00:03:40</th>\n",
       "      <td>10.128.2.1</td>\n",
       "      <td>fonts/fontawesome-webfont.woff2?v=4.6.3</td>\n",
       "      <td>200</td>\n",
       "      <td>GET</td>\n",
       "      <td>HTTP/1.1</td>\n",
       "    </tr>\n",
       "  </tbody>\n",
       "</table>\n",
       "</div>"
      ],
      "text/plain": [
       "                             ip                                      url  \\\n",
       "date_time                                                                  \n",
       "2021-02-12 00:00:23  10.128.2.1                                            \n",
       "2021-02-12 00:00:23  10.128.2.1                                login.php   \n",
       "2021-02-12 00:00:24  10.128.2.1                        css/normalize.css   \n",
       "2021-02-12 00:00:28  10.128.2.1    fonts/fontawesome-webfont.eot?v=4.6.3   \n",
       "2021-02-12 00:03:40  10.128.2.1  fonts/fontawesome-webfont.woff2?v=4.6.3   \n",
       "\n",
       "                    status method transfer_protocol  \n",
       "date_time                                            \n",
       "2021-02-12 00:00:23    302   GET           HTTP/1.1  \n",
       "2021-02-12 00:00:23    200   GET           HTTP/1.1  \n",
       "2021-02-12 00:00:24    200   GET           HTTP/1.1  \n",
       "2021-02-12 00:00:28    200   GET           HTTP/1.1  \n",
       "2021-02-12 00:03:40    200   GET           HTTP/1.1  "
      ]
     },
     "execution_count": 4,
     "metadata": {},
     "output_type": "execute_result"
    }
   ],
   "source": [
    "# 10.128.2.1 \n",
    "user_10_128 = df['ip'] == '10.128.2.1'\n",
    "user_10_128 = df[user_10_128]\n",
    "\n",
    "#10.131.0.1\n",
    "user_10_131 = df['ip'] == '10.131.0.1'\n",
    "user_10_131 = df[user_10_131]\n",
    "\n",
    "#10.130.2.1\n",
    "user_10_130 = df['ip'] == '10.130.2.1'\n",
    "user_10_130 = df[user_10_130]\n",
    "\n"
   ]
  },
  {
   "cell_type": "code",
   "execution_count": 5,
   "metadata": {},
   "outputs": [
    {
     "data": {
      "text/plain": [
       "Text(0.5, 1.0, 'Most Popular Methods by user_10_128')"
      ]
     },
     "execution_count": 5,
     "metadata": {},
     "output_type": "execute_result"
    },
    {
     "data": {
      "image/png": "[encoded data removed]",
      "text/plain": [
       "<Figure size 1296x504 with 1 Axes>"
      ]
     },
     "metadata": {
      "needs_background": "light"
     },
     "output_type": "display_data"
    }
   ],
   "source": [
    "# Visualize status by ip address\n",
    "plt.rcParams['figure.figsize'] = (18, 7)\n",
    "\n",
    "color = plt.cm.copper(np.linspace(0, 1, 40))\n",
    "user_10_128['method'].value_counts().plot.bar(color = color)\n",
    "plt.title('Most Popular Methods by user_10_128', fontsize = 20)\n",
    "plt.show()"
   ]
  },
  {
   "cell_type": "code",
   "execution_count": null,
   "metadata": {},
   "outputs": [],
   "source": []
  },
  {
   "cell_type": "code",
   "execution_count": null,
   "metadata": {},
   "outputs": [],
   "source": []
  },
  {
   "cell_type": "code",
   "execution_count": null,
   "metadata": {},
   "outputs": [],
   "source": []
  },
  {
   "cell_type": "code",
   "execution_count": null,
   "metadata": {},
   "outputs": [],
   "source": []
  },
  {
   "cell_type": "code",
   "execution_count": null,
   "metadata": {},
   "outputs": [],
   "source": []
  },
  {
   "cell_type": "code",
   "execution_count": null,
   "metadata": {},
   "outputs": [],
   "source": []
  },
  {
   "cell_type": "code",
   "execution_count": 7,
   "metadata": {},
   "outputs": [],
   "source": []
  },
  {
   "cell_type": "code",
   "execution_count": 19,
   "metadata": {},
   "outputs": [
    {
     "data": {
      "text/plain": [
       "25"
      ]
     },
     "execution_count": 19,
     "metadata": {},
     "output_type": "execute_result"
    }
   ],
   "source": []
  },
  {
   "cell_type": "code",
   "execution_count": 23,
   "metadata": {},
   "outputs": [
    {
     "data": {
      "text/html": [
       "<div>\n",
       "<style scoped>\n",
       "    .dataframe tbody tr th:only-of-type {\n",
       "        vertical-align: middle;\n",
       "    }\n",
       "\n",
       "    .dataframe tbody tr th {\n",
       "        vertical-align: top;\n",
       "    }\n",
       "\n",
       "    .dataframe thead th {\n",
       "        text-align: right;\n",
       "    }\n",
       "</style>\n",
       "<table border=\"1\" class=\"dataframe\">\n",
       "  <thead>\n",
       "    <tr style=\"text-align: right;\">\n",
       "      <th></th>\n",
       "    </tr>\n",
       "  </thead>\n",
       "  <tbody>\n",
       "  </tbody>\n",
       "</table>\n",
       "</div>"
      ],
      "text/plain": [
       "Empty DataFrame\n",
       "Columns: []\n",
       "Index: []"
      ]
     },
     "execution_count": 23,
     "metadata": {},
     "output_type": "execute_result"
    }
   ],
   "source": []
  },
  {
   "cell_type": "code",
   "execution_count": 25,
   "metadata": {},
   "outputs": [
    {
     "data": {
      "text/html": [
       "<div>\n",
       "<style scoped>\n",
       "    .dataframe tbody tr th:only-of-type {\n",
       "        vertical-align: middle;\n",
       "    }\n",
       "\n",
       "    .dataframe tbody tr th {\n",
       "        vertical-align: top;\n",
       "    }\n",
       "\n",
       "    .dataframe thead th {\n",
       "        text-align: right;\n",
       "    }\n",
       "</style>\n",
       "<table border=\"1\" class=\"dataframe\">\n",
       "  <thead>\n",
       "    <tr style=\"text-align: right;\">\n",
       "      <th></th>\n",
       "      <th>Name</th>\n",
       "      <th>Birth</th>\n",
       "      <th>Death</th>\n",
       "      <th>Aged</th>\n",
       "      <th>Nationality</th>\n",
       "      <th>Notability</th>\n",
       "      <th>Mode of transport</th>\n",
       "      <th>Vehicle</th>\n",
       "      <th>Crash location</th>\n",
       "      <th>Details</th>\n",
       "    </tr>\n",
       "  </thead>\n",
       "  <tbody>\n",
       "    <tr>\n",
       "      <th>0</th>\n",
       "      <td>Norifumi Abe</td>\n",
       "      <td>1975.0</td>\n",
       "      <td>2007.0</td>\n",
       "      <td>32 years</td>\n",
       "      <td>Japanese</td>\n",
       "      <td>motorcycle racer</td>\n",
       "      <td>scooter</td>\n",
       "      <td>Yamaha XP 500 TMAX</td>\n",
       "      <td>Kawasaki, Kanagawa, Japan</td>\n",
       "      <td>Collision with a truck, which made an illegal ...</td>\n",
       "    </tr>\n",
       "    <tr>\n",
       "      <th>1</th>\n",
       "      <td>Anand Abhyankar</td>\n",
       "      <td>1963.0</td>\n",
       "      <td>2012.0</td>\n",
       "      <td>49 years</td>\n",
       "      <td>Indian</td>\n",
       "      <td>actor</td>\n",
       "      <td>car</td>\n",
       "      <td>NaN</td>\n",
       "      <td>Pune, Maharashtra, India</td>\n",
       "      <td>[3]</td>\n",
       "    </tr>\n",
       "    <tr>\n",
       "      <th>2</th>\n",
       "      <td>Frank Adams</td>\n",
       "      <td>1930.0</td>\n",
       "      <td>1989.0</td>\n",
       "      <td>58 years</td>\n",
       "      <td>British</td>\n",
       "      <td>mathematician</td>\n",
       "      <td>car</td>\n",
       "      <td>NaN</td>\n",
       "      <td>Brampton, Cambridgeshire, England, United Kingdom</td>\n",
       "      <td>NaN</td>\n",
       "    </tr>\n",
       "    <tr>\n",
       "      <th>3</th>\n",
       "      <td>Olubayo Adefemi</td>\n",
       "      <td>1985.0</td>\n",
       "      <td>2011.0</td>\n",
       "      <td>25 years</td>\n",
       "      <td>Nigerian</td>\n",
       "      <td>footballer</td>\n",
       "      <td>car</td>\n",
       "      <td>NaN</td>\n",
       "      <td>Kavala, Greece</td>\n",
       "      <td>Adefemi was driving on Egnatia Odos when he co...</td>\n",
       "    </tr>\n",
       "    <tr>\n",
       "      <th>4</th>\n",
       "      <td>Adegoke Adelabu</td>\n",
       "      <td>1915.0</td>\n",
       "      <td>1958.0</td>\n",
       "      <td>42 years</td>\n",
       "      <td>Nigerian</td>\n",
       "      <td>politician</td>\n",
       "      <td>car</td>\n",
       "      <td>NaN</td>\n",
       "      <td>Lagos-Ibadan Expressway, Nigeria</td>\n",
       "      <td>NaN</td>\n",
       "    </tr>\n",
       "    <tr>\n",
       "      <th>...</th>\n",
       "      <td>...</td>\n",
       "      <td>...</td>\n",
       "      <td>...</td>\n",
       "      <td>...</td>\n",
       "      <td>...</td>\n",
       "      <td>...</td>\n",
       "      <td>...</td>\n",
       "      <td>...</td>\n",
       "      <td>...</td>\n",
       "      <td>...</td>\n",
       "    </tr>\n",
       "    <tr>\n",
       "      <th>5</th>\n",
       "      <td>Hicham Zerouali</td>\n",
       "      <td>1977.0</td>\n",
       "      <td>2004.0</td>\n",
       "      <td>27 years</td>\n",
       "      <td>Moroccan</td>\n",
       "      <td>footballer</td>\n",
       "      <td>car</td>\n",
       "      <td>NaN</td>\n",
       "      <td>Rabat, Morocco</td>\n",
       "      <td>[538]</td>\n",
       "    </tr>\n",
       "    <tr>\n",
       "      <th>6</th>\n",
       "      <td>Aleksandr Zhirov</td>\n",
       "      <td>1958.0</td>\n",
       "      <td>1983.0</td>\n",
       "      <td>24 years</td>\n",
       "      <td>Russian</td>\n",
       "      <td>alpine skier</td>\n",
       "      <td>car</td>\n",
       "      <td>NaN</td>\n",
       "      <td>near Yakhroma, Moscow Oblast, Russia</td>\n",
       "      <td>[539]</td>\n",
       "    </tr>\n",
       "    <tr>\n",
       "      <th>7</th>\n",
       "      <td>Claudia Zobel</td>\n",
       "      <td>1965.0</td>\n",
       "      <td>1984.0</td>\n",
       "      <td>18 years</td>\n",
       "      <td>Filipina</td>\n",
       "      <td>actress</td>\n",
       "      <td>car</td>\n",
       "      <td>NaN</td>\n",
       "      <td>Makati, Philippines</td>\n",
       "      <td>[540]</td>\n",
       "    </tr>\n",
       "    <tr>\n",
       "      <th>8</th>\n",
       "      <td>Vano Zodelava</td>\n",
       "      <td>1957.0</td>\n",
       "      <td>2019.0</td>\n",
       "      <td>61 years</td>\n",
       "      <td>Georgian</td>\n",
       "      <td>politician</td>\n",
       "      <td>car</td>\n",
       "      <td>NaN</td>\n",
       "      <td>Tbilisi, Soviet Union</td>\n",
       "      <td>[541]</td>\n",
       "    </tr>\n",
       "    <tr>\n",
       "      <th>9</th>\n",
       "      <td>Yegor Ivanovich Zolotarev</td>\n",
       "      <td>1847.0</td>\n",
       "      <td>1878.0</td>\n",
       "      <td>31 years</td>\n",
       "      <td>Russian</td>\n",
       "      <td>mathematician</td>\n",
       "      <td>pedestrian</td>\n",
       "      <td>NaN</td>\n",
       "      <td>Tsarskoye Selo, Russia</td>\n",
       "      <td>Zolotarev was on his way to his dacha when he ...</td>\n",
       "    </tr>\n",
       "  </tbody>\n",
       "</table>\n",
       "<p>1048 rows × 10 columns</p>\n",
       "</div>"
      ],
      "text/plain": [
       "                         Name   Birth   Death      Aged Nationality  \\\n",
       "0                Norifumi Abe  1975.0  2007.0  32 years    Japanese   \n",
       "1             Anand Abhyankar  1963.0  2012.0  49 years      Indian   \n",
       "2                 Frank Adams  1930.0  1989.0  58 years     British   \n",
       "3             Olubayo Adefemi  1985.0  2011.0  25 years    Nigerian   \n",
       "4             Adegoke Adelabu  1915.0  1958.0  42 years    Nigerian   \n",
       "..                        ...     ...     ...       ...         ...   \n",
       "5             Hicham Zerouali  1977.0  2004.0  27 years    Moroccan   \n",
       "6            Aleksandr Zhirov  1958.0  1983.0  24 years     Russian   \n",
       "7               Claudia Zobel  1965.0  1984.0  18 years    Filipina   \n",
       "8               Vano Zodelava  1957.0  2019.0  61 years    Georgian   \n",
       "9   Yegor Ivanovich Zolotarev  1847.0  1878.0  31 years     Russian   \n",
       "\n",
       "          Notability Mode of transport             Vehicle  \\\n",
       "0   motorcycle racer           scooter  Yamaha XP 500 TMAX   \n",
       "1              actor               car                 NaN   \n",
       "2      mathematician               car                 NaN   \n",
       "3         footballer               car                 NaN   \n",
       "4         politician               car                 NaN   \n",
       "..               ...               ...                 ...   \n",
       "5         footballer               car                 NaN   \n",
       "6       alpine skier               car                 NaN   \n",
       "7            actress               car                 NaN   \n",
       "8         politician               car                 NaN   \n",
       "9      mathematician        pedestrian                 NaN   \n",
       "\n",
       "                                       Crash location  \\\n",
       "0                           Kawasaki, Kanagawa, Japan   \n",
       "1                            Pune, Maharashtra, India   \n",
       "2   Brampton, Cambridgeshire, England, United Kingdom   \n",
       "3                                      Kavala, Greece   \n",
       "4                    Lagos-Ibadan Expressway, Nigeria   \n",
       "..                                                ...   \n",
       "5                                      Rabat, Morocco   \n",
       "6                near Yakhroma, Moscow Oblast, Russia   \n",
       "7                                 Makati, Philippines   \n",
       "8                               Tbilisi, Soviet Union   \n",
       "9                              Tsarskoye Selo, Russia   \n",
       "\n",
       "                                              Details  \n",
       "0   Collision with a truck, which made an illegal ...  \n",
       "1                                                 [3]  \n",
       "2                                                 NaN  \n",
       "3   Adefemi was driving on Egnatia Odos when he co...  \n",
       "4                                                 NaN  \n",
       "..                                                ...  \n",
       "5                                               [538]  \n",
       "6                                               [539]  \n",
       "7                                               [540]  \n",
       "8                                               [541]  \n",
       "9   Zolotarev was on his way to his dacha when he ...  \n",
       "\n",
       "[1048 rows x 10 columns]"
      ]
     },
     "execution_count": 25,
     "metadata": {},
     "output_type": "execute_result"
    }
   ],
   "source": [
    "# Georges Project\n",
    "# url = \"https://en.wikipedia.org/wiki/List_of_people_who_died_in_traffic_collisions\"\n",
    "# tables = pd.read_html(url)\n",
    "# df = pd.concat(tables)\n",
    "# df.reset_index(drop = True)\n",
    "# df"
   ]
  },
  {
   "cell_type": "code",
   "execution_count": null,
   "metadata": {},
   "outputs": [],
   "source": []
  },
  {
   "cell_type": "code",
   "execution_count": null,
   "metadata": {},
   "outputs": [],
   "source": []
  },
  {
   "cell_type": "code",
   "execution_count": null,
   "metadata": {},
   "outputs": [],
   "source": []
  },
  {
   "cell_type": "code",
   "execution_count": null,
   "metadata": {},
   "outputs": [],
   "source": []
  }
 ],
 "metadata": {
  "kernelspec": {
   "display_name": "Python 3",
   "language": "python",
   "name": "python3"
  },
  "language_info": {
   "codemirror_mode": {
    "name": "ipython",
    "version": 3
   },
   "file_extension": ".py",
   "mimetype": "text/x-python",
   "name": "python",
   "nbconvert_exporter": "python",
   "pygments_lexer": "ipython3",
   "version": "3.8.5"
  }
 },
 "nbformat": 4,
 "nbformat_minor": 4
}
